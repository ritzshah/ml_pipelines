{
 "cells": [
  {
   "cell_type": "markdown",
   "id": "208d1e19-075a-49de-83a4-4046981c8cab",
   "metadata": {},
   "source": [
    "### **02_model_training.ipynb**\n",
    "### **Model Training Pipeline**\n",
    "\n",
    "* ##### 01 - Install packages\n",
    "* ##### 02 - Import packages\n",
    "* ##### 03 - Create tasks\n",
    "* ##### 04 - Create pipeline\n",
    "* ##### 05 - Create pipeline yaml\n",
    "* ##### 06 - Create pipeline run\n",
    "* ##### 07 - Run inference"
   ]
  },
  {
   "cell_type": "markdown",
   "id": "04e773ec-5f55-4658-bb89-aa4dad6dfd53",
   "metadata": {},
   "source": [
    "### 01 - Install packages"
   ]
  },
  {
   "cell_type": "code",
   "execution_count": null,
   "id": "d1a74538-6ecd-43ac-9ea4-9c5158b7c16e",
   "metadata": {
    "tags": []
   },
   "outputs": [],
   "source": [
    "!pip install kfp-tekton==1.5.9 requests==2.31.0 tensorflow==2.15.0"
   ]
  },
  {
   "cell_type": "markdown",
   "id": "8823c595-9568-45ed-82ed-587ff09af30f",
   "metadata": {},
   "source": [
    "### 02 - Import packages"
   ]
  },
  {
   "cell_type": "code",
   "execution_count": null,
   "id": "fc3c5108-89ca-499b-8c94-6ba965aaa313",
   "metadata": {
    "tags": []
   },
   "outputs": [],
   "source": [
    "import os\n",
    "import sys\n",
    "sys.path.append(os.path.dirname(os.getcwd()))\n",
    "\n",
    "import json\n",
    "import kfp\n",
    "import kfp_tekton\n",
    "import requests\n",
    "import tensorflow as tf\n",
    "\n",
    "from PIL import Image\n",
    "\n",
    "from components.create_model     import create_model\n",
    "from components.delete_artifacts import delete_artifacts\n",
    "from components.download_dataset import download_dataset\n",
    "from components.evaluate_model   import evaluate_model\n",
    "from components.prepare_dataset  import prepare_dataset\n",
    "from components.train_model      import train_model\n",
    "from components.upload_artifacts import upload_artifacts\n",
    "from components.upload_model     import upload_model"
   ]
  },
  {
   "cell_type": "markdown",
   "id": "fc52fd13-94d6-45c3-9d29-ae1554aa0390",
   "metadata": {},
   "source": [
    "### 03 - Create tasks"
   ]
  },
  {
   "cell_type": "code",
   "execution_count": null,
   "id": "cf83c390-a1e4-40d8-8663-332207364397",
   "metadata": {
    "tags": []
   },
   "outputs": [],
   "source": [
    "task_base_image = 'registry.access.redhat.com/ubi9/python-311'"
   ]
  },
  {
   "cell_type": "code",
   "execution_count": null,
   "id": "44bfad77-cf7e-45e5-9aa8-c8b2ac063fb6",
   "metadata": {
    "tags": []
   },
   "outputs": [],
   "source": [
    "download_dataset_op = kfp.components.create_component_from_func(\n",
    "    func       = download_dataset,\n",
    "    base_image = task_base_image\n",
    ")"
   ]
  },
  {
   "cell_type": "code",
   "execution_count": null,
   "id": "94278666-0864-424b-9080-fb8137f70644",
   "metadata": {
    "tags": []
   },
   "outputs": [],
   "source": [
    "prepare_dataset_op = kfp.components.create_component_from_func(\n",
    "    func       = prepare_dataset,\n",
    "    base_image = task_base_image\n",
    ")"
   ]
  },
  {
   "cell_type": "code",
   "execution_count": null,
   "id": "1264356d-d5cf-4614-ae7a-6cc3efd1f406",
   "metadata": {
    "tags": []
   },
   "outputs": [],
   "source": [
    "create_model_op = kfp.components.create_component_from_func(\n",
    "    func                = create_model,\n",
    "    base_image          = task_base_image,\n",
    "    packages_to_install = ['tensorflow==2.15.0']\n",
    ")"
   ]
  },
  {
   "cell_type": "code",
   "execution_count": null,
   "id": "6a306a42-6dbd-4e1e-b747-be92765ac9c4",
   "metadata": {
    "tags": []
   },
   "outputs": [],
   "source": [
    "train_model_op = kfp.components.create_component_from_func(\n",
    "    func                = train_model,\n",
    "    base_image          = task_base_image,\n",
    "    packages_to_install = ['tensorflow==2.15.0']\n",
    ")"
   ]
  },
  {
   "cell_type": "code",
   "execution_count": null,
   "id": "ca53834a-0c07-4d81-945d-91f878e31cce",
   "metadata": {
    "tags": []
   },
   "outputs": [],
   "source": [
    "evaluate_model_op = kfp.components.create_component_from_func(\n",
    "    func                = evaluate_model,\n",
    "    base_image          = task_base_image,\n",
    "    packages_to_install = ['tensorflow==2.15.0']\n",
    ")"
   ]
  },
  {
   "cell_type": "code",
   "execution_count": null,
   "id": "a4b3e4f9-aa79-4d52-bfca-934e90dcb896",
   "metadata": {
    "tags": []
   },
   "outputs": [],
   "source": [
    "upload_artifacts_op = kfp.components.create_component_from_func(\n",
    "    func                = upload_artifacts,\n",
    "    base_image          = task_base_image,\n",
    "    packages_to_install = ['boto3==1.34.28']\n",
    ")"
   ]
  },
  {
   "cell_type": "code",
   "execution_count": null,
   "id": "453b5143-1459-4666-864f-81557c2acdaa",
   "metadata": {
    "tags": []
   },
   "outputs": [],
   "source": [
    "upload_model_op = kfp.components.create_component_from_func(\n",
    "    func                = upload_model,\n",
    "    base_image          = task_base_image,\n",
    "    packages_to_install = ['boto3==1.34.28', 'openvino==2023.3.0']\n",
    ")"
   ]
  },
  {
   "cell_type": "code",
   "execution_count": null,
   "id": "456372be-5f7f-4eab-9be7-251fd50759db",
   "metadata": {
    "tags": []
   },
   "outputs": [],
   "source": [
    "delete_artifacts_op = kfp.components.create_component_from_func(\n",
    "    func       = delete_artifacts,\n",
    "    base_image = task_base_image\n",
    ")"
   ]
  },
  {
   "cell_type": "markdown",
   "id": "728dc5d5-fd81-4f63-9b97-116caafd4939",
   "metadata": {},
   "source": [
    "### 04 - Create pipeline"
   ]
  },
  {
   "cell_type": "code",
   "execution_count": null,
   "id": "809edf8f-b4f0-4a8e-8277-3db2747f830a",
   "metadata": {
    "tags": []
   },
   "outputs": [],
   "source": [
    "pipeline_name        = '02_model_training'\n",
    "pipeline_description = 'Model Training Pipeline'"
   ]
  },
  {
   "cell_type": "code",
   "execution_count": null,
   "id": "4095c4b3-db57-4aee-8607-9e98a4ff8b74",
   "metadata": {
    "tags": []
   },
   "outputs": [],
   "source": [
    "@kfp.dsl.pipeline(\n",
    "    name        = pipeline_name,\n",
    "    description = pipeline_description\n",
    ")\n",
    "def pipeline(\n",
    "    s3_service_name      : str,\n",
    "    s3_endpoint_url      : str,\n",
    "    s3_access_key_id     : str,\n",
    "    s3_secret_access_key : str,\n",
    "    s3_region            : str,\n",
    "    s3_bucket            : str\n",
    "):\n",
    "\n",
    "    import os\n",
    "\n",
    "    create_pvc_task = kfp.dsl.VolumeOp(\n",
    "        name          = 'create_pvc',\n",
    "        resource_name = 'pvc',\n",
    "        size          = '1Gi',\n",
    "        modes         = kfp.dsl.VOLUME_MODE_RWO\n",
    "    )\n",
    "\n",
    "    pvc_directory = os.path.join('/', 'pipeline')\n",
    "    pvc_volume    = create_pvc_task.volume\n",
    "\n",
    "    download_dataset_task = download_dataset_op()\n",
    "    download_dataset_task.add_pvolumes({ pvc_directory : pvc_volume.after(create_pvc_task) })\n",
    "\n",
    "    prepare_dataset_task = prepare_dataset_op()\n",
    "    prepare_dataset_task.add_pvolumes({ pvc_directory : pvc_volume.after(download_dataset_task) })\n",
    "\n",
    "    create_model_task = create_model_op()\n",
    "    create_model_task.add_pvolumes({ pvc_directory : pvc_volume.after(create_pvc_task) })\n",
    "\n",
    "    train_model_task = train_model_op()\n",
    "    train_model_task.add_pvolumes({ pvc_directory : pvc_volume.after(prepare_dataset_task).after(create_model_task) })\n",
    "\n",
    "    evaluate_model_task = evaluate_model_op()\n",
    "    evaluate_model_task.add_pvolumes({ pvc_directory : pvc_volume.after(train_model_task) })\n",
    "\n",
    "    upload_artifacts_task = upload_artifacts_op(\n",
    "        s3_service_name      = s3_service_name,\n",
    "        s3_endpoint_url      = s3_endpoint_url,\n",
    "        s3_access_key_id     = s3_access_key_id,\n",
    "        s3_secret_access_key = s3_secret_access_key,\n",
    "        s3_region            = s3_region,\n",
    "        s3_bucket            = s3_bucket\n",
    "    )\n",
    "    upload_artifacts_task.add_pvolumes({ pvc_directory : pvc_volume.after(evaluate_model_task) })\n",
    "\n",
    "    upload_model_task = upload_model_op(\n",
    "        s3_service_name      = s3_service_name,\n",
    "        s3_endpoint_url      = s3_endpoint_url,\n",
    "        s3_access_key_id     = s3_access_key_id,\n",
    "        s3_secret_access_key = s3_secret_access_key,\n",
    "        s3_region            = s3_region,\n",
    "        s3_bucket            = s3_bucket\n",
    "    )\n",
    "    upload_model_task.add_pvolumes({ pvc_directory : pvc_volume.after(evaluate_model_task) })\n",
    "\n",
    "    delete_artifacts_task = delete_artifacts_op()\n",
    "    delete_artifacts_task.add_pvolumes({ pvc_directory : pvc_volume.after(upload_artifacts_task).after(upload_model_task) })"
   ]
  },
  {
   "cell_type": "markdown",
   "id": "972070ac-763e-4928-bd2f-b702ded4f900",
   "metadata": {},
   "source": [
    "### 05 - Create pipeline yaml"
   ]
  },
  {
   "cell_type": "code",
   "execution_count": null,
   "id": "d7101c9b-74fd-4e45-b36a-6a27ce554f91",
   "metadata": {
    "tags": []
   },
   "outputs": [],
   "source": [
    "pipeline_package_path = os.path.join('yaml', f'{ pipeline_name }.yaml')"
   ]
  },
  {
   "cell_type": "code",
   "execution_count": null,
   "id": "d2221107-b373-45a9-8b59-5b56bbadff79",
   "metadata": {
    "tags": []
   },
   "outputs": [],
   "source": [
    "kfp_tekton.compiler.TektonCompiler().compile(\n",
    "    pipeline_func = pipeline,\n",
    "    package_path  = pipeline_package_path\n",
    ")"
   ]
  },
  {
   "cell_type": "markdown",
   "id": "3f099527-e436-4af6-a355-eba22cc3d636",
   "metadata": {},
   "source": [
    "### 06 - Create pipeline run"
   ]
  },
  {
   "cell_type": "code",
   "execution_count": null,
   "id": "6f48e0c2-caec-4fbd-8508-e0b4ecd751a6",
   "metadata": {
    "tags": []
   },
   "outputs": [],
   "source": [
    "kubeflow_host  = '<kubeflow_host>'\n",
    "kubeflow_token = '<kubeflow_token>'"
   ]
  },
  {
   "cell_type": "code",
   "execution_count": null,
   "id": "53ca1f82-ce6c-47c0-a655-36ae1bcecf36",
   "metadata": {
    "tags": []
   },
   "outputs": [],
   "source": [
    "pipeline_arguments = {\n",
    "    's3_service_name'      : 's3',\n",
    "    's3_endpoint_url'      : '<s3_endpoint_url>',\n",
    "    's3_access_key_id'     : '<s3_access_key_id>',\n",
    "    's3_secret_access_key' : '<s3_secret_access_key>',\n",
    "    's3_region'            : '<s3_region>',\n",
    "    's3_bucket'            : '<s3_bucket>',\n",
    "}"
   ]
  },
  {
   "cell_type": "code",
   "execution_count": null,
   "id": "be2c40d4-7561-4cea-aafb-28c2471f4117",
   "metadata": {
    "tags": []
   },
   "outputs": [],
   "source": [
    "kfp_tekton.TektonClient(host = kubeflow_host, existing_token = kubeflow_token).create_run_from_pipeline_package(\n",
    "    pipeline_file = pipeline_package_path,\n",
    "    arguments     = pipeline_arguments\n",
    ")"
   ]
  },
  {
   "cell_type": "markdown",
   "id": "8ab83f78-8ec8-4082-a002-a3c6ca4a6034",
   "metadata": {},
   "source": [
    "### 07 - Run inference"
   ]
  },
  {
   "cell_type": "code",
   "execution_count": null,
   "id": "c04c2930-1e64-49fb-bcd3-9bafe1b52d50",
   "metadata": {
    "tags": []
   },
   "outputs": [],
   "source": [
    "inference_endpoint       = '<inference_endpoint>'\n",
    "inference_endpoint_token = '<inference_endpoint_token>'"
   ]
  },
  {
   "cell_type": "code",
   "execution_count": null,
   "id": "205e1c17-fa70-4e65-8d7d-47858d011462",
   "metadata": {
    "tags": []
   },
   "outputs": [],
   "source": [
    "def run_inference(image):\n",
    "\n",
    "    Image.open(image).show()\n",
    "\n",
    "    image = tf.keras.utils.load_img(image, target_size = (160, 160))\n",
    "    image = tf.keras.utils.img_to_array(image)\n",
    "    image = image.tolist()\n",
    "    image = [image]\n",
    "\n",
    "    headers = {\n",
    "        'Content-Type'  : 'application/json',\n",
    "        'Authorization' : f'Bearer { inference_endpoint_token }'\n",
    "    }\n",
    "\n",
    "    payload = json.dumps({\n",
    "        'inputs' : [\n",
    "            {\n",
    "                'name'     : 'layer_0_input',\n",
    "                'datatype' : 'FP32',\n",
    "                'data'     : image,\n",
    "                'shape'    : [1, 160, 160, 3]\n",
    "            }\n",
    "        ]\n",
    "    })\n",
    "\n",
    "    response = requests.post(url = inference_endpoint, headers = headers, data = payload)\n",
    "    response = json.loads(response.text)\n",
    "\n",
    "    prediction_score = response['outputs'][0]['data'][0]\n",
    "    prediction       = 'cat' if prediction_score < 0.5 else 'dog'\n",
    "\n",
    "    print(f'prediction : { prediction }')\n",
    "    print(f'score      : { prediction_score }')"
   ]
  },
  {
   "cell_type": "code",
   "execution_count": null,
   "id": "0fc300ed-01e8-49fb-b1d9-f153142945cf",
   "metadata": {
    "tags": []
   },
   "outputs": [],
   "source": [
    "run_inference('images/cat.png')"
   ]
  },
  {
   "cell_type": "code",
   "execution_count": null,
   "id": "065835fc-6a99-4542-b456-934a6716c17e",
   "metadata": {
    "tags": []
   },
   "outputs": [],
   "source": [
    "run_inference('images/dog.png')"
   ]
  }
 ],
 "metadata": {
  "kernelspec": {
   "display_name": "Python 3.9",
   "language": "python",
   "name": "python3"
  },
  "language_info": {
   "codemirror_mode": {
    "name": "ipython",
    "version": 3
   },
   "file_extension": ".py",
   "mimetype": "text/x-python",
   "name": "python",
   "nbconvert_exporter": "python",
   "pygments_lexer": "ipython3",
   "version": "3.9.16"
  }
 },
 "nbformat": 4,
 "nbformat_minor": 5
}
