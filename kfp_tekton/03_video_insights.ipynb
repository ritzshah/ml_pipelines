{
 "cells": [
  {
   "cell_type": "markdown",
   "id": "52e54a80-133d-4ef0-a171-492792af3b23",
   "metadata": {},
   "source": [
    "### **03_video_insights.ipynb**\n",
    "### **Video Insights Pipeline**\n",
    "\n",
    "* ##### 01 - Install packages\n",
    "* ##### 02 - Import packages\n",
    "* ##### 03 - Create tasks\n",
    "* ##### 04 - Create pipeline\n",
    "* ##### 05 - Create pipeline yaml\n",
    "* ##### 06 - Create pipeline run"
   ]
  },
  {
   "cell_type": "markdown",
   "id": "f7cc9061-baff-47e2-a82f-e74dc1b9e44d",
   "metadata": {},
   "source": [
    "### 01 - Install packages"
   ]
  },
  {
   "cell_type": "code",
   "execution_count": null,
   "id": "e296deee-26d1-4f73-a957-a1596d3a60a1",
   "metadata": {
    "tags": []
   },
   "outputs": [],
   "source": [
    "!pip install kfp"
   ]
  },
  {
   "cell_type": "markdown",
   "id": "e57f4263-0e49-4fce-b731-b34f46b745f6",
   "metadata": {},
   "source": [
    "### 02 - Import packages"
   ]
  },
  {
   "cell_type": "code",
   "execution_count": null,
   "id": "e3facf74-2ad1-414d-bcb5-6f035f904ad9",
   "metadata": {
    "tags": []
   },
   "outputs": [],
   "source": [
    "import os\n",
    "import sys\n",
    "sys.path.append(os.path.dirname(os.getcwd()))\n",
    "\n",
    "import kfp\n",
    "import kfp.kubernetes as kubernetes\n",
    "\n",
    "from components.delete_artifacts             import delete_artifacts\n",
    "from components.download_video               import download_video\n",
    "from components.extract_audio                import extract_audio\n",
    "from components.extract_speeches             import extract_speeches\n",
    "from components.extract_summary              import extract_summary\n",
    "from components.prepare_video                import prepare_video\n",
    "from components.translate_english_portuguese import translate_english_portuguese\n",
    "from components.translate_english_spanish    import translate_english_spanish\n",
    "from components.upload_artifacts             import upload_artifacts"
   ]
  },
  {
   "cell_type": "markdown",
   "id": "48326862-86c3-4bbe-ae12-a29777053801",
   "metadata": {},
   "source": [
    "### 03 - Create tasks"
   ]
  },
  {
   "cell_type": "code",
   "execution_count": null,
   "id": "ea497e0c-aba2-4cc0-b705-ade3a6722a4a",
   "metadata": {
    "tags": []
   },
   "outputs": [],
   "source": [
    "task_base_image = 'registry.access.redhat.com/ubi9/python-311'"
   ]
  },
  {
   "cell_type": "code",
   "execution_count": null,
   "id": "2387d793-908c-4eda-8fae-020d36c2ef9c",
   "metadata": {
    "tags": []
   },
   "outputs": [],
   "source": [
    "download_video_op = kfp.dsl.component(\n",
    "    func                = download_video,\n",
    "    base_image          = task_base_image,\n",
    "    packages_to_install = ['boto3']\n",
    ")"
   ]
  },
  {
   "cell_type": "code",
   "execution_count": null,
   "id": "d43e9610-961f-4fd5-9ca3-1eb85448b794",
   "metadata": {
    "tags": []
   },
   "outputs": [],
   "source": [
    "prepare_video_op = kfp.dsl.component(\n",
    "    func       = prepare_video,\n",
    "    base_image = task_base_image\n",
    ")"
   ]
  },
  {
   "cell_type": "code",
   "execution_count": null,
   "id": "62627d67-ab95-446c-87cd-b3dcdaf71d95",
   "metadata": {
    "tags": []
   },
   "outputs": [],
   "source": [
    "extract_audio_op = kfp.dsl.component(\n",
    "    func                = extract_audio,\n",
    "    base_image          = task_base_image,\n",
    "    packages_to_install = ['moviepy']\n",
    ")"
   ]
  },
  {
   "cell_type": "code",
   "execution_count": null,
   "id": "c9467d97-9d61-465a-858b-926e0f1ade78",
   "metadata": {
    "tags": []
   },
   "outputs": [],
   "source": [
    "extract_speeches_op = kfp.dsl.component(\n",
    "    func                = extract_speeches,\n",
    "    base_image          = task_base_image,\n",
    "    packages_to_install = ['torch', 'transformers']\n",
    ")"
   ]
  },
  {
   "cell_type": "code",
   "execution_count": null,
   "id": "1f8b7c3d-c958-4eb1-a970-803bfae69632",
   "metadata": {
    "tags": []
   },
   "outputs": [],
   "source": [
    "extract_summary_op = kfp.dsl.component(\n",
    "    func                = extract_summary,\n",
    "    base_image          = task_base_image,\n",
    "    packages_to_install = ['torch', 'transformers']\n",
    ")"
   ]
  },
  {
   "cell_type": "code",
   "execution_count": null,
   "id": "1d427e56-f0e9-4f43-815d-db90cc289b09",
   "metadata": {
    "tags": []
   },
   "outputs": [],
   "source": [
    "translate_english_spanish_op = kfp.dsl.component(\n",
    "    func                = translate_english_spanish,\n",
    "    base_image          = task_base_image,\n",
    "    packages_to_install = ['torch', 'sentencepiece', 'transformers']\n",
    ")"
   ]
  },
  {
   "cell_type": "code",
   "execution_count": null,
   "id": "6f953005-d7e3-45c7-b675-eb89f3db71aa",
   "metadata": {
    "tags": []
   },
   "outputs": [],
   "source": [
    "translate_english_portuguese_op = kfp.dsl.component(\n",
    "    func                = translate_english_portuguese,\n",
    "    base_image          = task_base_image,\n",
    "    packages_to_install = ['torch', 'transformers']\n",
    ")"
   ]
  },
  {
   "cell_type": "code",
   "execution_count": null,
   "id": "b04ce7ba-15db-4706-af07-098c06f81f78",
   "metadata": {
    "tags": []
   },
   "outputs": [],
   "source": [
    "upload_artifacts_op = kfp.dsl.component(\n",
    "    func                = upload_artifacts,\n",
    "    base_image          = task_base_image,\n",
    "    packages_to_install = ['boto3']\n",
    ")"
   ]
  },
  {
   "cell_type": "code",
   "execution_count": null,
   "id": "f3c92b40-f875-4cc4-b8ef-146ed10bc40f",
   "metadata": {
    "tags": []
   },
   "outputs": [],
   "source": [
    "delete_artifacts_op = kfp.dsl.component(\n",
    "    func       = delete_artifacts,\n",
    "    base_image = task_base_image\n",
    ")"
   ]
  },
  {
   "cell_type": "markdown",
   "id": "3d1d7034-2ee8-42aa-aff5-b20e8e0e6092",
   "metadata": {},
   "source": [
    "### 04 - Create pipeline"
   ]
  },
  {
   "cell_type": "code",
   "execution_count": null,
   "id": "d54fd572-579e-4310-ae13-34c2230e8878",
   "metadata": {
    "tags": []
   },
   "outputs": [],
   "source": [
    "pipeline_name        = '03_video_insights'\n",
    "pipeline_description = 'Video Insights Pipeline'"
   ]
  },
  {
   "cell_type": "code",
   "execution_count": null,
   "id": "67e9c9b6-8694-4e2b-961d-8c3eb6caad5e",
   "metadata": {
    "tags": []
   },
   "outputs": [],
   "source": [
    "@kfp.dsl.pipeline(\n",
    "    name        = pipeline_name,\n",
    "    description = pipeline_description\n",
    ")\n",
    "def pipeline(\n",
    "    s3_service_name      : str,\n",
    "    s3_endpoint_url      : str,\n",
    "    s3_access_key_id     : str,\n",
    "    s3_secret_access_key : str,\n",
    "    s3_region            : str,\n",
    "    s3_bucket            : str\n",
    "):\n",
    "\n",
    "    import os\n",
    "\n",
    "    create_pvc_task = kubernetes.CreatePVC(\n",
    "        pvc_name_suffix    = '-pipeline-pvc',\n",
    "        size               = '1Gi',\n",
    "        access_modes       = ['ReadWriteOnce'],\n",
    "        storage_class_name = '<storage_class_name>'\n",
    "    )\n",
    "\n",
    "    pvc_directory = os.path.join('/', 'pipeline')\n",
    "    pvc_name      = create_pvc_task.outputs['name']\n",
    "\n",
    "    download_video_task = download_video_op(\n",
    "        s3_service_name      = s3_service_name,\n",
    "        s3_endpoint_url      = s3_endpoint_url,\n",
    "        s3_access_key_id     = s3_access_key_id,\n",
    "        s3_secret_access_key = s3_secret_access_key,\n",
    "        s3_region            = s3_region,\n",
    "        s3_bucket            = s3_bucket,\n",
    "        pipeline_name        = pipeline_name\n",
    "    )\n",
    "    download_video_task.after(create_pvc_task)\n",
    "\n",
    "    prepare_video_task = prepare_video_op()\n",
    "    kubernetes.mount_pvc(\n",
    "        task       = prepare_video_task,\n",
    "        pvc_name   = pvc_name,\n",
    "        mount_path = pvc_directory,\n",
    "    )\n",
    "    prepare_video_task.after(download_video_task)\n",
    "\n",
    "    extract_audio_task = extract_audio_op()\n",
    "    kubernetes.mount_pvc(\n",
    "        task       = extract_audio_task,\n",
    "        pvc_name   = pvc_name,\n",
    "        mount_path = pvc_directory,\n",
    "    )\n",
    "    extract_audio_task.after(prepare_video_task)\n",
    "\n",
    "    extract_speeches_task = extract_speeches_op()\n",
    "    kubernetes.mount_pvc(\n",
    "        task       = extract_speeches_task,\n",
    "        pvc_name   = pvc_name,\n",
    "        mount_path = pvc_directory,\n",
    "    )\n",
    "    extract_speeches_task.after(extract_audio_task)\n",
    "\n",
    "    extract_summary_task = extract_summary_op()\n",
    "    kubernetes.mount_pvc(\n",
    "        task       = extract_summary_task,\n",
    "        pvc_name   = pvc_name,\n",
    "        mount_path = pvc_directory,\n",
    "    )\n",
    "    extract_summary_task.after(extract_speeches_task)\n",
    "\n",
    "    translate_english_spanish_task = translate_english_spanish_op()\n",
    "    kubernetes.mount_pvc(\n",
    "        task       = translate_english_spanish_task,\n",
    "        pvc_name   = pvc_name,\n",
    "        mount_path = pvc_directory,\n",
    "    )\n",
    "    translate_english_spanish_task.after(extract_summary_task)\n",
    "\n",
    "    translate_english_portuguese_task = translate_english_portuguese_op()\n",
    "    kubernetes.mount_pvc(\n",
    "        task       = translate_english_portuguese_task,\n",
    "        pvc_name   = pvc_name,\n",
    "        mount_path = pvc_directory,\n",
    "    )\n",
    "    translate_english_portuguese_task.after(extract_summary_task)\n",
    "\n",
    "    upload_artifacts_task = upload_artifacts_op(\n",
    "        s3_service_name      = s3_service_name,\n",
    "        s3_endpoint_url      = s3_endpoint_url,\n",
    "        s3_access_key_id     = s3_access_key_id,\n",
    "        s3_secret_access_key = s3_secret_access_key,\n",
    "        s3_region            = s3_region,\n",
    "        s3_bucket            = s3_bucket,\n",
    "        pipeline_name        = pipeline_name\n",
    "    )\n",
    "    kubernetes.mount_pvc(\n",
    "        task       = upload_artifacts_task,\n",
    "        pvc_name   = pvc_name,\n",
    "        mount_path = pvc_directory,\n",
    "    )\n",
    "    upload_artifacts_task.after(translate_english_portuguese_task)\n",
    "\n",
    "    delete_artifacts_task = delete_artifacts_op()\n",
    "    kubernetes.mount_pvc(\n",
    "        task       = upload_artifacts_task,\n",
    "        pvc_name   = pvc_name,\n",
    "        mount_path = pvc_directory,\n",
    "    )\n",
    "    delete_artifacts_task.after(upload_artifacts_task)\n",
    "\n",
    "    kubernetes.DeletePVC(pvc_name = pvc_name).after(delete_artifacts_task)"
   ]
  },
  {
   "cell_type": "markdown",
   "id": "0b6106e9-5c9f-4879-982d-b2b3aa604d64",
   "metadata": {},
   "source": [
    "### 05 - Create pipeline yaml"
   ]
  },
  {
   "cell_type": "code",
   "execution_count": null,
   "id": "d216f891-f2fe-46aa-997d-89913cb2b68c",
   "metadata": {
    "tags": []
   },
   "outputs": [],
   "source": [
    "pipeline_package_path = os.path.join('yaml', f'{ pipeline_name }.yaml')"
   ]
  },
  {
   "cell_type": "code",
   "execution_count": null,
   "id": "52c5dd9b-5737-4d0b-8be3-5fd7e3c04f4c",
   "metadata": {
    "tags": []
   },
   "outputs": [],
   "source": [
    "kfp.compiler.Compiler().compile(\n",
    "    pipeline_func = pipeline,\n",
    "    package_path  = pipeline_package_path\n",
    ")"
   ]
  },
  {
   "cell_type": "markdown",
   "id": "a12cdcca-eb66-47be-9b40-1010e1278d3a",
   "metadata": {},
   "source": [
    "### 06 - Create pipeline run"
   ]
  },
  {
   "cell_type": "code",
   "execution_count": null,
   "id": "2cb0d6c2-6a0c-49cf-a1c6-58e9e5237900",
   "metadata": {
    "tags": []
   },
   "outputs": [],
   "source": [
    "kubeflow_host  = '<kubeflow_host>'\n",
    "kubeflow_token = '<kubeflow_token>'"
   ]
  },
  {
   "cell_type": "code",
   "execution_count": null,
   "id": "607661f7-3f23-4115-a70a-1ea9a7d12ae5",
   "metadata": {
    "tags": []
   },
   "outputs": [],
   "source": [
    "pipeline_arguments = {\n",
    "    's3_service_name'      : 's3',\n",
    "    's3_endpoint_url'      : '<s3_endpoint_url>',\n",
    "    's3_access_key_id'     : '<s3_access_key_id>',\n",
    "    's3_secret_access_key' : '<s3_secret_access_key>',\n",
    "    's3_region'            : '<s3_region>',\n",
    "    's3_bucket'            : '<s3_bucket>',\n",
    "}"
   ]
  },
  {
   "cell_type": "code",
   "execution_count": null,
   "id": "ef3db4af-a573-4a24-ae23-f1411943c1fb",
   "metadata": {
    "tags": []
   },
   "outputs": [],
   "source": [
    "kfp.client.Client(host = kubeflow_host, existing_token = kubeflow_token).create_run_from_pipeline_package(\n",
    "    pipeline_file = pipeline_package_path,\n",
    "    arguments     = pipeline_arguments\n",
    ")"
   ]
  }
 ],
 "metadata": {
  "kernelspec": {
   "display_name": "Python 3.9",
   "language": "python",
   "name": "python3"
  },
  "language_info": {
   "codemirror_mode": {
    "name": "ipython",
    "version": 3
   },
   "file_extension": ".py",
   "mimetype": "text/x-python",
   "name": "python",
   "nbconvert_exporter": "python",
   "pygments_lexer": "ipython3",
   "version": "3.9.16"
  }
 },
 "nbformat": 4,
 "nbformat_minor": 5
}
