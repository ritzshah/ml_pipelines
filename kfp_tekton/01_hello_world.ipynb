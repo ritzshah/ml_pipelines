{
 "cells": [
  {
   "cell_type": "markdown",
   "id": "a18c3854-ec83-44b1-9fbf-ec2017bc2331",
   "metadata": {},
   "source": [
    "### **01_hello_world.ipynb**\n",
    "### **Hello World Pipeline**\n",
    "\n",
    "* ##### 01 - Install packages\n",
    "* ##### 02 - Import packages\n",
    "* ##### 03 - Create tasks\n",
    "* ##### 04 - Create pipeline\n",
    "* ##### 05 - Create pipeline yaml\n",
    "* ##### 06 - Create pipeline run"
   ]
  },
  {
   "cell_type": "markdown",
   "id": "2ce58d49-dc35-447d-a260-c0f007d95fcb",
   "metadata": {},
   "source": [
    "### 01 - Install packages"
   ]
  },
  {
   "cell_type": "code",
   "execution_count": null,
   "id": "99c1e22c-0d28-486c-8646-87a972dd7d3e",
   "metadata": {
    "tags": []
   },
   "outputs": [],
   "source": [
    "!pip install kfp"
   ]
  },
  {
   "cell_type": "markdown",
   "id": "7b3dfc86-9139-495a-a69a-8754a678af19",
   "metadata": {},
   "source": [
    "### 02 - Import packages"
   ]
  },
  {
   "cell_type": "code",
   "execution_count": null,
   "id": "d1868787-5ee4-4042-b1d9-ab8d0661a189",
   "metadata": {
    "tags": []
   },
   "outputs": [],
   "source": [
    "import os\n",
    "import sys\n",
    "sys.path.append(os.path.dirname(os.getcwd()))\n",
    "\n",
    "import kfp\n",
    "\n",
    "from components.create_hello_world_message   import create_hello_world_message\n",
    "from components.create_odds_or_evens_message import create_odds_or_evens_message\n",
    "from components.create_random_number         import create_random_number"
   ]
  },
  {
   "cell_type": "markdown",
   "id": "729ecf09-6eab-4b22-af21-17594d6c25b3",
   "metadata": {},
   "source": [
    "### 03 - Create tasks"
   ]
  },
  {
   "cell_type": "code",
   "execution_count": null,
   "id": "2d8cc901-fb29-4c92-a026-737dee6db137",
   "metadata": {
    "tags": []
   },
   "outputs": [],
   "source": [
    "task_base_image = 'registry.access.redhat.com/ubi9/python-311'"
   ]
  },
  {
   "cell_type": "code",
   "execution_count": null,
   "id": "fa5a5ddb-7a9d-4486-9cab-a2f468781252",
   "metadata": {
    "tags": []
   },
   "outputs": [],
   "source": [
    "create_hello_world_message_op = kfp.dsl.component(\n",
    "    func       = create_hello_world_message,\n",
    "    base_image = task_base_image\n",
    ")"
   ]
  },
  {
   "cell_type": "code",
   "execution_count": null,
   "id": "87b0a753-9628-4a73-9f1c-cb1da870a7e1",
   "metadata": {
    "tags": []
   },
   "outputs": [],
   "source": [
    "create_random_number_op = kfp.dsl.component(\n",
    "    func       = create_random_number,\n",
    "    base_image = task_base_image\n",
    ")"
   ]
  },
  {
   "cell_type": "code",
   "execution_count": null,
   "id": "3bc5f823-7969-419a-aea1-2a5f9a831255",
   "metadata": {
    "tags": []
   },
   "outputs": [],
   "source": [
    "create_odds_or_evens_message_op = kfp.dsl.component(\n",
    "    func       = create_odds_or_evens_message,\n",
    "    base_image = task_base_image\n",
    ")"
   ]
  },
  {
   "cell_type": "markdown",
   "id": "8e516cba-2e48-43f2-9d71-1aa2af932c2b",
   "metadata": {},
   "source": [
    "### 04 - Create pipeline"
   ]
  },
  {
   "cell_type": "code",
   "execution_count": null,
   "id": "f7409b47-669a-4c7a-a26d-756fb8e19d78",
   "metadata": {
    "tags": []
   },
   "outputs": [],
   "source": [
    "pipeline_name        = '01_hello_world'\n",
    "pipeline_description = 'Hello World Pipeline'"
   ]
  },
  {
   "cell_type": "code",
   "execution_count": null,
   "id": "49d53fd0-2a2e-4012-8ace-c676e3bc6804",
   "metadata": {
    "tags": []
   },
   "outputs": [],
   "source": [
    "@kfp.dsl.pipeline(\n",
    "    name        = pipeline_name,\n",
    "    description = pipeline_description\n",
    ")\n",
    "def pipeline(\n",
    "    name    : str,\n",
    "    minimum : int,\n",
    "    maximum : int\n",
    "):\n",
    "\n",
    "    create_hello_world_message_task = create_hello_world_message_op(\n",
    "        name = name\n",
    "    )\n",
    "\n",
    "    create_random_number_task = create_random_number_op(\n",
    "        minimum = minimum,\n",
    "        maximum = maximum\n",
    "    )\n",
    "\n",
    "    create_odds_or_evens_message_op(\n",
    "        hello_world_message = create_hello_world_message_task.output,\n",
    "        random_number       = create_random_number_task.output\n",
    "    )"
   ]
  },
  {
   "cell_type": "markdown",
   "id": "58ddeef0-4234-4aef-8216-4f92f96e584f",
   "metadata": {},
   "source": [
    "### 05 - Create pipeline yaml"
   ]
  },
  {
   "cell_type": "code",
   "execution_count": null,
   "id": "08338ce4-dc60-4d19-a663-42b2c9344c30",
   "metadata": {
    "tags": []
   },
   "outputs": [],
   "source": [
    "pipeline_package_path = os.path.join('yaml', f'{ pipeline_name }.yaml')"
   ]
  },
  {
   "cell_type": "code",
   "execution_count": null,
   "id": "882557db-009d-4b11-9e3e-361e93efc5dd",
   "metadata": {
    "tags": []
   },
   "outputs": [],
   "source": [
    "kfp.compiler.Compiler().compile(\n",
    "    pipeline_func = pipeline,\n",
    "    package_path  = pipeline_package_path\n",
    ")"
   ]
  },
  {
   "cell_type": "markdown",
   "id": "4d4182ab-2a2f-4b01-9f97-00f23c5b8968",
   "metadata": {},
   "source": [
    "### 06 - Create pipeline run"
   ]
  },
  {
   "cell_type": "code",
   "execution_count": null,
   "id": "792ee6b6-2370-4cc2-9c79-88e14fc3f518",
   "metadata": {
    "tags": []
   },
   "outputs": [],
   "source": [
    "kubeflow_host  = '<kubeflow_host>'\n",
    "kubeflow_token = '<kubeflow_token>'"
   ]
  },
  {
   "cell_type": "code",
   "execution_count": null,
   "id": "3faf6d6d-eeca-46b1-aaec-ccae5339b0b0",
   "metadata": {
    "tags": []
   },
   "outputs": [],
   "source": [
    "pipeline_arguments = {\n",
    "    'name'    : 'ML Pipelines',\n",
    "    'minimum' : 1,\n",
    "    'maximum' : 100\n",
    "}"
   ]
  },
  {
   "cell_type": "code",
   "execution_count": null,
   "id": "9f06437f-fd3d-42a8-822b-76f01f064e48",
   "metadata": {
    "tags": []
   },
   "outputs": [],
   "source": [
    "kfp.client.Client(host = kubeflow_host, existing_token = kubeflow_token).create_run_from_pipeline_package(\n",
    "    pipeline_file = pipeline_package_path,\n",
    "    arguments     = pipeline_arguments\n",
    ")"
   ]
  }
 ],
 "metadata": {
  "kernelspec": {
   "display_name": "Python 3.9",
   "language": "python",
   "name": "python3"
  },
  "language_info": {
   "codemirror_mode": {
    "name": "ipython",
    "version": 3
   },
   "file_extension": ".py",
   "mimetype": "text/x-python",
   "name": "python",
   "nbconvert_exporter": "python",
   "pygments_lexer": "ipython3",
   "version": "3.9.16"
  }
 },
 "nbformat": 4,
 "nbformat_minor": 5
}
