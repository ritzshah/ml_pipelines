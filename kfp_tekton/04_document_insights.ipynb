{
 "cells": [
  {
   "cell_type": "markdown",
   "id": "938b735c-b3d0-4f12-ac86-4325f6125edf",
   "metadata": {},
   "source": [
    "### **04_document_insights.ipynb**\n",
    "### **Document Insights Pipeline**\n",
    "\n",
    "* ##### 01 - Install packages\n",
    "* ##### 02 - Import packages\n",
    "* ##### 03 - Create tasks\n",
    "* ##### 04 - Create pipeline\n",
    "* ##### 05 - Create pipeline yaml\n",
    "* ##### 06 - Create pipeline run"
   ]
  },
  {
   "cell_type": "markdown",
   "id": "14514cdc-e930-4b4f-866f-dcecc74e50ed",
   "metadata": {},
   "source": [
    "### 01 - Install packages"
   ]
  },
  {
   "cell_type": "code",
   "execution_count": null,
   "id": "64f0ecb2-5e20-4373-9e08-44048dc0ce16",
   "metadata": {},
   "outputs": [],
   "source": [
    "!pip install kfp-tekton==1.5.9"
   ]
  },
  {
   "cell_type": "markdown",
   "id": "9a80dc60-6b1c-4dd4-8544-e181cc2a07c9",
   "metadata": {},
   "source": [
    "### 02 - Import packages"
   ]
  },
  {
   "cell_type": "code",
   "execution_count": null,
   "id": "1cfafbe4-2cc3-4bdc-ab91-31d6208fe008",
   "metadata": {
    "tags": []
   },
   "outputs": [],
   "source": [
    "import os\n",
    "import sys\n",
    "sys.path.append(os.path.dirname(os.getcwd()))\n",
    "\n",
    "import kfp\n",
    "import kfp_tekton\n",
    "\n",
    "from components.download_document               import download_document\n",
    "from components.evaluate_document_names         import evaluate_document_names\n",
    "from components.extract_document_info_cnh       import extract_document_info_cnh\n",
    "from components.extract_document_info_escritura import extract_document_info_escritura"
   ]
  },
  {
   "cell_type": "markdown",
   "id": "73fa3d14-c64a-4aa9-bfd4-aafe3a6bccbd",
   "metadata": {},
   "source": [
    "### 03 - Create tasks"
   ]
  },
  {
   "cell_type": "code",
   "execution_count": null,
   "id": "2a7f5fb3-d5b9-4acd-8195-d6f40bc79310",
   "metadata": {
    "tags": []
   },
   "outputs": [],
   "source": [
    "task_base_image = 'registry.access.redhat.com/ubi9/python-311'\n",
    "image_tesseract = 'image-registry.openshift-image-registry.svc:5000/my-project/tesseract'"
   ]
  },
  {
   "cell_type": "code",
   "execution_count": null,
   "id": "f19d7b7b-249a-4db5-bfa3-3595b5b62535",
   "metadata": {
    "tags": []
   },
   "outputs": [],
   "source": [
    "download_document_op = kfp.components.create_component_from_func(\n",
    "    func                = download_document,\n",
    "    base_image          = task_base_image,\n",
    "    packages_to_install = ['boto3']\n",
    ")"
   ]
  },
  {
   "cell_type": "code",
   "execution_count": null,
   "id": "0ff9f135-90d3-4532-9b9a-df69eb237163",
   "metadata": {
    "tags": []
   },
   "outputs": [],
   "source": [
    "extract_document_info_cnh_op = kfp.components.create_component_from_func(\n",
    "    func       = extract_document_info_cnh,\n",
    "    base_image = image_tesseract\n",
    ")"
   ]
  },
  {
   "cell_type": "code",
   "execution_count": null,
   "id": "005be059-3789-433a-a0bf-73993556a9f4",
   "metadata": {
    "tags": []
   },
   "outputs": [],
   "source": [
    "extract_document_info_escritura_op = kfp.components.create_component_from_func(\n",
    "    func       = extract_document_info_escritura,\n",
    "    base_image = image_tesseract\n",
    ")"
   ]
  },
  {
   "cell_type": "code",
   "execution_count": null,
   "id": "2185f291-48db-4174-b6e0-712194eceeb8",
   "metadata": {
    "tags": []
   },
   "outputs": [],
   "source": [
    "evaluate_document_names_op = kfp.components.create_component_from_func(\n",
    "    func       = evaluate_document_names,\n",
    "    base_image = task_base_image\n",
    ")"
   ]
  },
  {
   "cell_type": "markdown",
   "id": "f5355af5-b10f-476b-aa64-177f9b6dba5a",
   "metadata": {},
   "source": [
    "### 04 - Create pipeline"
   ]
  },
  {
   "cell_type": "code",
   "execution_count": null,
   "id": "440d1010-1962-4ded-8598-04c65e710c40",
   "metadata": {
    "tags": []
   },
   "outputs": [],
   "source": [
    "pipeline_name        = '04_document_insights'\n",
    "pipeline_description = 'Document Insights Pipeline'"
   ]
  },
  {
   "cell_type": "code",
   "execution_count": null,
   "id": "513ce32d-fb9b-4979-b354-e65792595619",
   "metadata": {
    "tags": []
   },
   "outputs": [],
   "source": [
    "@kfp.dsl.pipeline(\n",
    "    name        = pipeline_name,\n",
    "    description = pipeline_description\n",
    ")\n",
    "def pipeline(\n",
    "    s3_service_name      : str,\n",
    "    s3_endpoint_url      : str,\n",
    "    s3_access_key_id     : str,\n",
    "    s3_secret_access_key : str,\n",
    "    s3_region            : str,\n",
    "    s3_bucket            : str,\n",
    "    tesseract_config     : str,\n",
    "    document_cnh         : str,\n",
    "    document_escritura   : str\n",
    "):\n",
    "\n",
    "    import os\n",
    "\n",
    "    create_pvc_task = kfp.dsl.VolumeOp(\n",
    "        name          = 'create_pvc',\n",
    "        resource_name = 'pvc',\n",
    "        size          = '1Gi',\n",
    "        modes         = kfp.dsl.VOLUME_MODE_RWO\n",
    "    )\n",
    "\n",
    "    pvc_directory = os.path.join('/', 'pipeline')\n",
    "    pvc_volume    = create_pvc_task.volume\n",
    "\n",
    "    download_document_cnh_task = download_document_op(\n",
    "        s3_service_name      = s3_service_name,\n",
    "        s3_endpoint_url      = s3_endpoint_url,\n",
    "        s3_access_key_id     = s3_access_key_id,\n",
    "        s3_secret_access_key = s3_secret_access_key,\n",
    "        s3_region            = s3_region,\n",
    "        s3_bucket            = s3_bucket,\n",
    "        pipeline_name        = pipeline_name,\n",
    "        document_name        = document_cnh\n",
    "    )\n",
    "    download_document_cnh_task.set_display_name('download-document-cnh')\n",
    "    download_document_cnh_task.add_pvolumes({ pvc_directory : pvc_volume.after(create_pvc_task) })\n",
    "\n",
    "    download_document_escritura_task = download_document_op(\n",
    "        s3_service_name      = s3_service_name,\n",
    "        s3_endpoint_url      = s3_endpoint_url,\n",
    "        s3_access_key_id     = s3_access_key_id,\n",
    "        s3_secret_access_key = s3_secret_access_key,\n",
    "        s3_region            = s3_region,\n",
    "        s3_bucket            = s3_bucket,\n",
    "        pipeline_name        = pipeline_name,\n",
    "        document_name        = document_escritura\n",
    "    )\n",
    "    download_document_escritura_task.set_display_name('download-document-escritura')\n",
    "    download_document_escritura_task.add_pvolumes({ pvc_directory : pvc_volume.after(create_pvc_task) })\n",
    "\n",
    "    extract_document_info_cnh_task = extract_document_info_cnh_op(document_cnh, tesseract_config)\n",
    "    extract_document_info_cnh_task.add_pvolumes({ pvc_directory : pvc_volume.after(download_document_cnh_task) })\n",
    "\n",
    "    extract_document_info_escritura_task = extract_document_info_escritura_op(document_escritura, tesseract_config)\n",
    "    extract_document_info_escritura_task.add_pvolumes({ pvc_directory : pvc_volume.after(download_document_escritura_task) })\n",
    "\n",
    "    evaluate_document_names_task = evaluate_document_names_op(document_cnh, document_escritura)\n",
    "    evaluate_document_names_task.add_pvolumes({ pvc_directory : pvc_volume.after(extract_document_info_cnh_task).after(extract_document_info_escritura_task) })"
   ]
  },
  {
   "cell_type": "markdown",
   "id": "594a0fb7-7569-4418-81ef-4586761e29af",
   "metadata": {},
   "source": [
    "### 05 - Create pipeline yaml"
   ]
  },
  {
   "cell_type": "code",
   "execution_count": null,
   "id": "bdbe7ac7-463f-42f7-bdb3-2fd8ed201dc7",
   "metadata": {
    "tags": []
   },
   "outputs": [],
   "source": [
    "pipeline_package_path = os.path.join('yaml', f'{ pipeline_name }.yaml')"
   ]
  },
  {
   "cell_type": "code",
   "execution_count": null,
   "id": "a8da9596-f0ad-4062-aca9-40ae1acce051",
   "metadata": {
    "tags": []
   },
   "outputs": [],
   "source": [
    "kfp_tekton.compiler.TektonCompiler().compile(\n",
    "    pipeline_func = pipeline,\n",
    "    package_path  = pipeline_package_path\n",
    ")"
   ]
  },
  {
   "cell_type": "markdown",
   "id": "b6ae14a3-0cd8-4b65-96d2-18fc8d163d28",
   "metadata": {},
   "source": [
    "### 06 - Create pipeline run"
   ]
  },
  {
   "cell_type": "code",
   "execution_count": null,
   "id": "84159f94-cfe7-4588-aae1-c833fc1551e3",
   "metadata": {
    "tags": []
   },
   "outputs": [],
   "source": [
    "kubeflow_host  = '<kubeflow_host>'\n",
    "kubeflow_token = '<kubeflow_token>'"
   ]
  },
  {
   "cell_type": "code",
   "execution_count": null,
   "id": "ae263762-1831-4f4a-927c-1ac6744509aa",
   "metadata": {
    "tags": []
   },
   "outputs": [],
   "source": [
    "pipeline_arguments = {\n",
    "    's3_service_name'      : 's3',\n",
    "    's3_endpoint_url'      : '<s3_endpoint_url>',\n",
    "    's3_access_key_id'     : '<s3_access_key_id>',\n",
    "    's3_secret_access_key' : '<s3_secret_access_key>',\n",
    "    's3_region'            : '<s3_region>',\n",
    "    's3_bucket'            : '<s3_bucket>',\n",
    "    'tesseract_config'     : '<tesseract_config>',  # r'--oem 3 --psm 4 -l por'\n",
    "    'document_cnh'         : '<document_cnh>',\n",
    "    'document_escritura'   : '<document_escritura>'\n",
    "}"
   ]
  },
  {
   "cell_type": "code",
   "execution_count": null,
   "id": "8cde52aa-84a4-4cfc-a7c3-f263631c8ab4",
   "metadata": {
    "tags": []
   },
   "outputs": [],
   "source": [
    "kfp_tekton.TektonClient(host = kubeflow_host, existing_token = kubeflow_token).create_run_from_pipeline_package(\n",
    "    pipeline_file = pipeline_package_path,\n",
    "    arguments     = pipeline_arguments\n",
    ")"
   ]
  }
 ],
 "metadata": {
  "kernelspec": {
   "display_name": "Python 3.9",
   "language": "python",
   "name": "python3"
  },
  "language_info": {
   "codemirror_mode": {
    "name": "ipython",
    "version": 3
   },
   "file_extension": ".py",
   "mimetype": "text/x-python",
   "name": "python",
   "nbconvert_exporter": "python",
   "pygments_lexer": "ipython3",
   "version": "3.9.16"
  }
 },
 "nbformat": 4,
 "nbformat_minor": 5
}
