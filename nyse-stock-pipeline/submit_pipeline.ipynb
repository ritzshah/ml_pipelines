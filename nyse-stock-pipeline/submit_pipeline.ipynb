{
  "cells": [
    {
      "cell_type": "markdown",
      "metadata": {},
      "source": [
        "## NYSE Stock Pipeline Submission\n",
        "\n",
        "This notebook submits the end-to-end NYSE pipeline to OpenShift AI Data Science Pipelines (Kubeflow Pipelines v2).\n",
        "\n",
        "- Ensure your notebook environment has access to the project repo and a mounted PVC.\n",
        "- Update parameters below if needed (PVC name, symbols, dates, etc.).\n"
      ]
    },
    {
      "cell_type": "code",
      "execution_count": null,
      "metadata": {},
      "outputs": [],
      "source": [
        "# Install KFP client if needed\n",
        "import sys, subprocess\n",
        "subprocess.run([sys.executable, '-m', 'pip', 'install', '-q', 'kfp>=2.3.0'])\n",
        "print('KFP installed/verified')\n"
      ]
    },
    {
      "cell_type": "code",
      "execution_count": null,
      "metadata": {},
      "outputs": [],
      "source": [
        "# Define pipeline parameters\n",
        "PVC_NAME = 'model-artifacts-pvc'\n",
        "SYMBOLS = 'AAPL,MSFT'\n",
        "START = '2018-01-01'\n",
        "END = '2024-12-31'\n",
        "DATA_SUBDIR = 'nyse-data'\n",
        "FEATURES_SUBDIR = 'nyse-features'\n",
        "MODELS_SUBDIR = 'nyse-models'\n",
        "SELECTION_FILE = 'nyse-models/best.json'\n",
        "ENABLE_OPENVINO_CONVERT = False\n",
        "OPENVINO_OUT_SUBDIR = 'nyse-openvino'\n",
        "\n",
        "print('Params loaded')\n"
      ]
    },
    {
      "cell_type": "code",
      "execution_count": null,
      "metadata": {},
      "outputs": [],
      "source": [
        "from kfp import Client\n",
        "from kfp.compiler import Compiler\n",
        "from pipeline.nyse_pipeline import nyse_pipeline\n",
        "\n",
        "# Compile locally to avoid remote env dependency on kfp\n",
        "package_path = 'nyse_pipeline.json'\n",
        "Compiler().compile(nyse_pipeline, package_path)\n",
        "\n",
        "client = Client()\n",
        "run = client.create_run_from_pipeline_package(\n",
        "    package_path,\n",
        "    arguments=dict(\n",
        "        pvc_name=PVC_NAME,\n",
        "        symbols=SYMBOLS,\n",
        "        start=START,\n",
        "        end=END,\n",
        "        data_subdir=DATA_SUBDIR,\n",
        "        features_subdir=FEATURES_SUBDIR,\n",
        "        models_subdir=MODELS_SUBDIR,\n",
        "        selection_file=SELECTION_FILE,\n",
        "        enable_openvino_convert=ENABLE_OPENVINO_CONVERT,\n",
        "        openvino_out_subdir=OPENVINO_OUT_SUBDIR,\n",
        "    ),\n",
        ")\n",
        "print('Submitted run id:', run.run_id)\n"
      ]
    }
  ],
  "metadata": {
    "language_info": {
      "name": "python"
    }
  },
  "nbformat": 4,
  "nbformat_minor": 2
}
